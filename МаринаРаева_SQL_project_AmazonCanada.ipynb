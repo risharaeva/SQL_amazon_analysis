{
  "nbformat": 4,
  "nbformat_minor": 0,
  "metadata": {
    "colab": {
      "provenance": [],
      "authorship_tag": "ABX9TyOABTr/kHbeSGzPIaa/tGiK",
      "include_colab_link": true
    },
    "kernelspec": {
      "name": "python3",
      "display_name": "Python 3"
    },
    "language_info": {
      "name": "python"
    }
  },
  "cells": [
    {
      "cell_type": "markdown",
      "metadata": {
        "id": "view-in-github",
        "colab_type": "text"
      },
      "source": [
        "<a href=\"https://colab.research.google.com/github/risharaeva/SQL_amazon_analysis/blob/main/%D0%9C%D0%B0%D1%80%D0%B8%D0%BD%D0%B0%D0%A0%D0%B0%D0%B5%D0%B2%D0%B0_SQL_project_AmazonCanada.ipynb\" target=\"_parent\"><img src=\"https://colab.research.google.com/assets/colab-badge.svg\" alt=\"Open In Colab\"/></a>"
      ]
    },
    {
      "cell_type": "code",
      "execution_count": 1,
      "metadata": {
        "id": "em1NTHl8H5ci"
      },
      "outputs": [],
      "source": [
        "#импортируем необходимые библиотеки\n",
        "import sqlite3\n",
        "import pandas as pd"
      ]
    },
    {
      "cell_type": "code",
      "source": [
        "#создаем подключение к базе данных\n",
        "con = sqlite3.connect('D:/sql_amazon_canada/database', timeout=10)\n",
        "cur = con.cursor()"
      ],
      "metadata": {
        "id": "7NGFJZjMItkf"
      },
      "execution_count": 6,
      "outputs": []
    },
    {
      "cell_type": "code",
      "source": [
        "#подключаем файл БД\n",
        "df = pd.read_csv('D:/sql_amazon_canada/amz_ca_total_products_data_processed.csv', sep=',')\n",
        "df.to_sql(con=con, name='research_data', index=False, if_exists='replace')"
      ],
      "metadata": {
        "id": "yiytFV4PJDtQ"
      },
      "execution_count": null,
      "outputs": []
    },
    {
      "cell_type": "code",
      "source": [
        "#проверяем, подключилась ли таблица к базе данных\n",
        "data_test = cur.execute('select * from research_data')\n",
        "con.commit()\n",
        "result = cur.fetchall()\n",
        "print(result)"
      ],
      "metadata": {
        "id": "e3LLnC7pJGmd"
      },
      "execution_count": null,
      "outputs": []
    },
    {
      "cell_type": "code",
      "source": [
        "#проверяем информацию по загруженному датасету\n",
        "df.info()"
      ],
      "metadata": {
        "id": "Un3Bh9EBLeLB"
      },
      "execution_count": null,
      "outputs": []
    },
    {
      "cell_type": "markdown",
      "source": [
        " #   Column             Dtype  \n",
        "---  ------             -----  \n",
        " 0   asin               object\n",
        " 1   title              object\n",
        " 2   imgUrl             object\n",
        " 3   productURL         object\n",
        " 4   stars              float64\n",
        " 5   reviews            int64  \n",
        " 6   price              float64\n",
        " 7   listPrice          float64\n",
        " 8   categoryName       object\n",
        " 9   isBestSeller       bool   \n",
        " 10  boughtInLastMonth  int64  \n",
        "dtypes: bool(1), float64(3), int64(2), object(5)\n",
        "memory usage: 167.3+ MB"
      ],
      "metadata": {
        "id": "eEdioSWTLe7H"
      }
    },
    {
      "cell_type": "code",
      "source": [
        "#проверяем на наличие дубликатов и пустых строк, удаляем если есть\n",
        "duplicates = df.duplicated()\n",
        "df_no_duplicates = df.drop_duplicates()\n",
        "df_no_empty_rows = df.dropna()"
      ],
      "metadata": {
        "id": "18EtUXQtJIq3"
      },
      "execution_count": null,
      "outputs": []
    }
  ]
}